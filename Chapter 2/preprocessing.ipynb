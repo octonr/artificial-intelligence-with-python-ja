{
 "cells": [
  {
   "cell_type": "code",
   "execution_count": 1,
   "metadata": {},
   "outputs": [
    {
     "output_type": "stream",
     "name": "stdout",
     "text": [
      "Binarized data:\n [[1. 0. 1.]\n [0. 1. 0.]\n [1. 0. 0.]\n [1. 0. 0.]]\n"
     ]
    }
   ],
   "source": [
    "import numpy as np \n",
    "from sklearn import preprocessing\n",
    "\n",
    "input_data = np.array([[5.1, -2.9, 3.3], \n",
    "                       [-1.2, 7.8, -6.1], \n",
    "                       [3.9, 0.4, 2.1], \n",
    "                       [7.3, -9.9, -4.5]])\n",
    "\n",
    "# 二値化\n",
    "data_binarized = preprocessing.Binarizer(threshold=2.1).transform(input_data) \n",
    "print(\"Binarized data:\\n\", data_binarized) "
   ]
  },
  {
   "cell_type": "code",
   "execution_count": 2,
   "metadata": {},
   "outputs": [
    {
     "output_type": "stream",
     "name": "stdout",
     "text": [
      "BEFORE:\nMean = [ 3.775 -1.15  -1.3  ]\nStd deviation = [3.12039661 6.36651396 4.0620192 ]\nAFTER:\nMean = [1.11022302e-16 0.00000000e+00 2.77555756e-17]\nStd deviation = [1. 1. 1.]\n"
     ]
    }
   ],
   "source": [
    "# 平均値を引く \n",
    "## 特徴ベクトルから平均を引くと、特徴量の中心が原点になる\n",
    "## 特徴ベクトルからバイアスを除去するために平均値を引く。\n",
    "print(\"BEFORE:\") \n",
    "print(\"Mean =\", input_data.mean(axis=0))  # 平均\n",
    "print(\"Std deviation =\", input_data.std(axis=0)) # 標準偏差\n",
    "\n",
    "data_scaled = preprocessing.scale(input_data) # 平均値を引いて、標準偏差が1になるようにスケーリング\n",
    "print(\"AFTER:\") \n",
    "print(\"Mean =\", data_scaled.mean(axis=0)) # 平均は0に近い\n",
    "print(\"Std deviation =\", data_scaled.std(axis=0)) # 標準偏差は1"
   ]
  },
  {
   "cell_type": "code",
   "execution_count": 3,
   "metadata": {},
   "outputs": [
    {
     "output_type": "stream",
     "name": "stdout",
     "text": [
      "AFTER:\nMean = [ 3.33066907e-16  0.00000000e+00 -1.11022302e-16]\nStd deviation = [3.12039661 6.36651396 4.0620192 ]\n"
     ]
    }
   ],
   "source": [
    "data_centered = preprocessing.scale(input_data, with_std=False) # 平均値を引くだけの場合\n",
    "print(\"AFTER:\") \n",
    "print(\"Mean =\", data_centered.mean(axis=0)) \n",
    "print(\"Std deviation =\", data_centered.std(axis=0)) "
   ]
  },
  {
   "cell_type": "code",
   "execution_count": 4,
   "metadata": {},
   "outputs": [
    {
     "output_type": "stream",
     "name": "stdout",
     "text": [
      "Min max scaled data:\n [[0.74117647 0.39548023 1.        ]\n [0.         1.         0.        ]\n [0.6        0.5819209  0.87234043]\n [1.         0.         0.17021277]]\n"
     ]
    }
   ],
   "source": [
    "# スケーリング\n",
    "## 閾値[0,1]を指定してMiniMaxScalerオブジェクトを生成\n",
    "## fit_transform()オブジェクトを呼び出して最大値、最小値に収まるようにデータをスケーリングする。(各列毎)\n",
    "data_scaler_minmax = preprocessing.MinMaxScaler(feature_range=(0, 1)) \n",
    "data_scaled_minmax = data_scaler_minmax.fit_transform(input_data) \n",
    "print(\"Min max scaled data:\\n\", data_scaled_minmax) "
   ]
  },
  {
   "cell_type": "code",
   "execution_count": 7,
   "metadata": {},
   "outputs": [
    {
     "output_type": "stream",
     "name": "stdout",
     "text": [
      "L1 normalized data:\n [[ 0.45132743 -0.25663717  0.2920354 ]\n [-0.0794702   0.51655629 -0.40397351]\n [ 0.609375    0.0625      0.328125  ]\n [ 0.33640553 -0.4562212  -0.20737327]]\n各行の絶対値が1になる:\n\t 0.9999999999999998\n\t 1.0\n\t 1.0\n\t 1.0\n\nL2 normalized data:\n [[ 0.75765788 -0.43082507  0.49024922]\n [-0.12030718  0.78199664 -0.61156148]\n [ 0.87690281  0.08993875  0.47217844]\n [ 0.55734935 -0.75585734 -0.34357152]]\n各行の自乗の和が1になる:\n\t 1.0\n\t 1.0000000000000002\n\t 1.0\n\t 1.0000000000000002\n"
     ]
    }
   ],
   "source": [
    "# 正規化\n",
    "## 特徴ベクトルの値を共通的な尺度にそろえること\n",
    "## L1正規化: ベクトルの要素の絶対値の和が1になる\n",
    "## L2正規化: 自乗の和が1になる\n",
    "data_normalized_l1 = preprocessing.normalize(input_data, norm='l1') \n",
    "data_normalized_l2 = preprocessing.normalize(input_data, norm='l2') \n",
    "print(\"L1 normalized data:\\n\", data_normalized_l1) \n",
    "print(\"各行の絶対値が1になる:\")\n",
    "for row in data_normalized_l1:\n",
    "  print('\\t', np.sum(np.abs(row)))\n",
    "print(\"\\nL2 normalized data:\\n\", data_normalized_l2)\n",
    "print(\"各行の自乗の和が1になる:\")\n",
    "for row in data_normalized_l2:\n",
    "  print('\\t', np.sum(row*row))"
   ]
  },
  {
   "cell_type": "code",
   "execution_count": null,
   "metadata": {},
   "outputs": [],
   "source": []
  }
 ],
 "metadata": {
  "kernelspec": {
   "name": "python3",
   "display_name": "Python 3.8.5 64-bit"
  },
  "language_info": {
   "codemirror_mode": {
    "name": "ipython",
    "version": 3
   },
   "file_extension": ".py",
   "mimetype": "text/x-python",
   "name": "python",
   "nbconvert_exporter": "python",
   "pygments_lexer": "ipython3",
   "version": "3.9.5"
  },
  "interpreter": {
   "hash": "916dbcbb3f70747c44a77c7bcd40155683ae19c65e1c03b4aa3499c5328201f1"
  }
 },
 "nbformat": 4,
 "nbformat_minor": 2
}